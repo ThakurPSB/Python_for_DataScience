{
 "cells": [
  {
   "cell_type": "markdown",
   "id": "trying-service",
   "metadata": {},
   "source": [
    "# Strings Formating , slicing and Methods \n",
    "String is one of the important data type of python and there are many ways to manipulate and play with strings.\n",
    "Anything between the quotes is considered as sting in puython \n",
    "\n",
    "Eg. \"I love Python\", \"I am Batman superfan\" , \"1\", \"hi\", \"Temperature is 28°C\", \"India's own superhero - Shaktiman\"\n",
    "\n",
    "or you can use single quotes as well , \n",
    "\n",
    "Eg. 'Some text here', 'I am very lazy person', 'I said,\"hehehe\".'"
   ]
  },
  {
   "cell_type": "markdown",
   "id": "magnetic-bikini",
   "metadata": {},
   "source": [
    "### Special Characters in string "
   ]
  },
  {
   "cell_type": "code",
   "execution_count": 1,
   "id": "atomic-academy",
   "metadata": {},
   "outputs": [
    {
     "name": "stdout",
     "output_type": "stream",
     "text": [
      "India's own superhero - Shaktiman\n",
      "\"Are you hungry ?\", he asked.\n",
      "Yes I am hungry \n",
      " Do you have anything to eat\n",
      "\t I have cookies in kitchen\n",
      "\\Cookies\\\n"
     ]
    }
   ],
   "source": [
    "# We use the escape character (\\) for some special characters in python\n",
    "# special characters and how to use them in string\n",
    "\n",
    "# move text to new line  \\n\n",
    "# to insert tab          \\t\n",
    "# for single quote       \\'\n",
    "# for Double quote       \\\"\n",
    "# for backslash          \\\\\n",
    "\n",
    "# Let's check with examples\n",
    "\n",
    "print(\"India\\'s own superhero - Shaktiman\")             # use of \\'\n",
    "print(\"\\\"Are you hungry ?\\\", he asked.\")                # use of \\\"\n",
    "print(\"Yes I am hungry \\n Do you have anything to eat\") # use of \\n new line\n",
    "print(\"\\t I have cookies in kitchen\")                   # use of \\t tabs\n",
    "print(\"\\\\Cookies\\\\\")                                    # use of backslash \\\\\n",
    "\n",
    "# Note : you can use single quote in double quote and double quotes in signle quotes without escape character \\"
   ]
  },
  {
   "cell_type": "markdown",
   "id": "indian-title",
   "metadata": {},
   "source": [
    "### String concatnate"
   ]
  },
  {
   "cell_type": "code",
   "execution_count": 2,
   "id": "ceramic-fraud",
   "metadata": {},
   "outputs": [
    {
     "name": "stdout",
     "output_type": "stream",
     "text": [
      "JohnWick\n"
     ]
    }
   ],
   "source": [
    "# Look closely there is no space between them in the output \n",
    "print('John' + 'Wick')"
   ]
  },
  {
   "cell_type": "code",
   "execution_count": 3,
   "id": "dietary-involvement",
   "metadata": {},
   "outputs": [
    {
     "name": "stdout",
     "output_type": "stream",
     "text": [
      "John Wick\n"
     ]
    }
   ],
   "source": [
    "# We can also concate with comma which add space by default\n",
    "print('John','Wick')"
   ]
  },
  {
   "cell_type": "code",
   "execution_count": 4,
   "id": "signed-senator",
   "metadata": {},
   "outputs": [
    {
     "name": "stdout",
     "output_type": "stream",
     "text": [
      "BruceWayne\n",
      "Bruce Wayne\n"
     ]
    }
   ],
   "source": [
    "# we can also concate string saved in variables\n",
    "a = 'Bruce'\n",
    "b = 'Wayne'\n",
    "print(a + b)\n",
    "print(a,b)"
   ]
  },
  {
   "cell_type": "markdown",
   "id": "military-short",
   "metadata": {},
   "source": [
    "### String Slicing is same as list or tuples\n",
    "\n",
    "In string python also count space as charater\n",
    "\n",
    "I wont go in details of slicing , you can check list file for that\n",
    "\n",
    "Note : Escape character (\\) is not counted in slicing"
   ]
  },
  {
   "cell_type": "code",
   "execution_count": 5,
   "id": "western-testimony",
   "metadata": {},
   "outputs": [
    {
     "data": {
      "text/plain": [
       "'Tell me'"
      ]
     },
     "execution_count": 5,
     "metadata": {},
     "output_type": "execute_result"
    }
   ],
   "source": [
    "text = 'Tell me, do you bleed ?' \n",
    "\n",
    "# here we are slicing only first 7 letters including spaces\n",
    "text[0:7]"
   ]
  },
  {
   "cell_type": "markdown",
   "id": "wanted-measurement",
   "metadata": {},
   "source": [
    "###  Commonly used String Methods"
   ]
  },
  {
   "cell_type": "code",
   "execution_count": 96,
   "id": "covered-crystal",
   "metadata": {},
   "outputs": [
    {
     "name": "stdout",
     "output_type": "stream",
     "text": [
      "a famous man once said, 'We create our own Demons'\n"
     ]
    }
   ],
   "source": [
    "# We will use this awesome dialogue of Ironman for methods\n",
    "\n",
    "sample = \"a famous man once said, \\'We create our own Demons\\'\" ; print(sample)"
   ]
  },
  {
   "cell_type": "code",
   "execution_count": 7,
   "id": "sought-weather",
   "metadata": {},
   "outputs": [
    {
     "data": {
      "text/plain": [
       "\"A famous man once said, 'we create our own demons'\""
      ]
     },
     "execution_count": 7,
     "metadata": {},
     "output_type": "execute_result"
    }
   ],
   "source": [
    "# capitalize() - Capitalize the first char of string\n",
    "\n",
    "sample.capitalize()"
   ]
  },
  {
   "cell_type": "code",
   "execution_count": 102,
   "id": "verbal-virtue",
   "metadata": {},
   "outputs": [
    {
     "name": "stdout",
     "output_type": "stream",
     "text": [
      "a famous man once said, 'we create our own demons'\n",
      "a famous man once said, 'we create our own demons'\n",
      "A FAMOUS MAN ONCE SAID, 'WE CREATE OUR OWN DEMONS'\n",
      "A FAMOUS MAN ONCE SAID, 'wE CREATE OUR OWN dEMONS'\n",
      "A Famous Man Once Said, 'We Create Our Own Demons'\n"
     ]
    }
   ],
   "source": [
    "# casefold() - convert whole string to lowercase,even to symbols if they have lowercase like this one - Eszett ß to ss\n",
    "# print('ß'.casefold()) # uncomment this line and see for yourself \n",
    "# print('ß'.lower())    # uncomment this line and see for yourself \n",
    "\n",
    "print(sample.casefold())\n",
    "\n",
    "# lower() - make all char lower\n",
    "# upper() - makle all char upper\n",
    "# swapcase() - make lower to upper and upper to lower\n",
    "# title() - make first letter of all words capital\n",
    "\n",
    "print(sample.lower())\n",
    "print(sample.upper())\n",
    "print(sample.swapcase())\n",
    "print(sample.title())"
   ]
  },
  {
   "cell_type": "code",
   "execution_count": 103,
   "id": "funky-three",
   "metadata": {},
   "outputs": [
    {
     "name": "stdout",
     "output_type": "stream",
     "text": [
      "                         a famous man once said, 'We create our own Demons'                         \n",
      "#########################a famous man once said, 'We create our own Demons'#########################\n",
      "a famous man once said, 'We create our own Demons'                                                  \n",
      "a famous man once said, 'We create our own Demons'$$$$$$$$$$$$$$$$$$$$$$$$$$$$$$$$$$$$$$$$$$$$$$$$$$\n",
      "                                                  a famous man once said, 'We create our own Demons'\n",
      "$$$$$$$$$$$$$$$$$$$$$$$$$$$$$$$$$$$$$$$$$$$$$$$$$$a famous man once said, 'We create our own Demons'\n"
     ]
    }
   ],
   "source": [
    "# center(length, character) - center justified\n",
    "# ljust - left justified text\n",
    "# rjust - right justified text\n",
    "# Arguments : length is total length of line, character is for blanks after missing, default is space\n",
    "\n",
    "print(sample.center(100))\n",
    "print(sample.center(100, '#'))\n",
    "print(sample.ljust(100))\n",
    "print(sample.ljust(100,'$'))\n",
    "print(sample.rjust(100))\n",
    "print(sample.rjust(100,'$'))"
   ]
  },
  {
   "cell_type": "code",
   "execution_count": 10,
   "id": "acceptable-bristol",
   "metadata": {},
   "outputs": [
    {
     "name": "stdout",
     "output_type": "stream",
     "text": [
      "5\n",
      "2\n",
      "1\n"
     ]
    }
   ],
   "source": [
    "# count(*) - count all occurances of the element provided in string\n",
    "\n",
    "print(sample.count('a'))\n",
    "print(sample.count('\\'')) # how many special char ' in the strng use escape char\n",
    "print(sample.count('once'))"
   ]
  },
  {
   "cell_type": "code",
   "execution_count": 11,
   "id": "excessive-sellers",
   "metadata": {},
   "outputs": [
    {
     "name": "stdout",
     "output_type": "stream",
     "text": [
      "True\n",
      "False\n",
      "True\n",
      "False\n"
     ]
    }
   ],
   "source": [
    "# endswith(*) Check if string ends with specific value\n",
    "# startwith(*) check if string starts with specific value\n",
    "# This returns boolean value true or false\n",
    "\n",
    "print(sample.endswith('\\''))\n",
    "print(sample.endswith('hi'))\n",
    "\n",
    "print(sample.startswith('a'))\n",
    "print(sample.startswith('famous'))"
   ]
  },
  {
   "cell_type": "code",
   "execution_count": 13,
   "id": "numerical-damage",
   "metadata": {},
   "outputs": [
    {
     "name": "stdout",
     "output_type": "stream",
     "text": [
      "9\n",
      "9\n"
     ]
    }
   ],
   "source": [
    "# find(*) - return starting index of match in the string, return -1 if not found\n",
    "# index(*) - return starting index of match in the string, thorw exception when not found \n",
    "\n",
    "print(sample.find('man'))\n",
    "print(sample.index('man'))\n",
    "\n",
    "# uncomment the bellow lines to see the effect\n",
    "\n",
    "# print(sample.find('hello'))\n",
    "# print(sample.index('hello'))"
   ]
  },
  {
   "cell_type": "code",
   "execution_count": 49,
   "id": "adequate-genome",
   "metadata": {},
   "outputs": [
    {
     "name": "stdout",
     "output_type": "stream",
     "text": [
      "abc123 True\n",
      "IamIronman True\n",
      "1234566 True\n",
      "136656 True\n",
      "12545 True\n",
      "hi all lower string : True\n",
      "ALL UPPER : True\n",
      "     True\n",
      "Why So Serious? True\n"
     ]
    }
   ],
   "source": [
    "# There are many methods to check if string has alphanumeric, numerica, alphabetical only etc.\n",
    "# I have listed them all in this cell \n",
    "\n",
    "# isalnum()\n",
    "alphanumeric = 'abc123' # no space only alphabets and numbers\n",
    "print(alphanumeric, alphanumeric.isalnum())\n",
    "\n",
    "# isalpha()\n",
    "alpha = 'IamIronman' # no space only alphabets\n",
    "print(alpha, alpha.isalpha())\n",
    "\n",
    "# isdecimal()\n",
    "deci = '1234566' # only integers no floats or spaces\n",
    "print(deci, deci.isdecimal())\n",
    "\n",
    "# isdigit()\n",
    "digit = '136656' # same as isdecimal() differ for unicode char like '\\u00B2'\n",
    "print(digit, digit.isdigit())\n",
    "\n",
    "# isnumeric()\n",
    "numeric = '12545' # same as isdecimal() and isdigit() differe resutl for unicode chars like '\\u00BD'\n",
    "print(numeric, numeric.isnumeric())\n",
    "\n",
    "# islower()\n",
    "lower = 'hi all lower string :' # check if all char are lower case\n",
    "print(lower, lower.islower())\n",
    "\n",
    "# isupper()\n",
    "upper = 'ALL UPPER :' # check if all char are upper case\n",
    "print(upper, upper.isupper())\n",
    "\n",
    "# isspace()\n",
    "space = \"    \" # check if all char are space and nothing else\n",
    "print(space, space.isspace())\n",
    "\n",
    "# istitle()\n",
    "title = 'Why So Serious?' # check if all first char of words are capital\n",
    "print(title, title.istitle())\n"
   ]
  },
  {
   "cell_type": "code",
   "execution_count": 76,
   "id": "statewide-wednesday",
   "metadata": {},
   "outputs": [
    {
     "name": "stdout",
     "output_type": "stream",
     "text": [
      "String to list :  ['we', 'are', 'all', 'nerds']\n",
      "List to string :  we are all nerds\n"
     ]
    }
   ],
   "source": [
    "# join(*) - join the elements of list as string, return string\n",
    "# split(*) - split the string into list , return list\n",
    "\n",
    "string = 'we are all nerds'\n",
    "\n",
    "# split the string into list seperator as space\n",
    "char_list = string.split(sep=\" \")  \n",
    "\n",
    "# joint the elements of list with seperator as space\n",
    "string_2 = \" \".join(char_list)  \n",
    "\n",
    "print('String to list : ', char_list)\n",
    "print('List to string : ', string_2)"
   ]
  },
  {
   "cell_type": "code",
   "execution_count": 89,
   "id": "magnetic-gross",
   "metadata": {},
   "outputs": [
    {
     "name": "stdout",
     "output_type": "stream",
     "text": [
      "_hellow_\n",
      "_hellow_ \n",
      " _hellow_\n"
     ]
    }
   ],
   "source": [
    "# lstrip() - remove the whitespace from start\n",
    "# rstrip() - remove the whitespece from end\n",
    "# strit() - remove the whitespace from both ends\n",
    "\n",
    "print(\" _hellow_ \".strip())\n",
    "print(\" _hellow_ \".lstrip())\n",
    "print(\" _hellow_ \".rstrip())"
   ]
  },
  {
   "cell_type": "code",
   "execution_count": 94,
   "id": "rough-bermuda",
   "metadata": {},
   "outputs": [
    {
     "name": "stdout",
     "output_type": "stream",
     "text": [
      "original -  a famous man once said, 'we create our own demons'\n",
      "Replaced -  Ironman once said, 'we create our own demons'\n"
     ]
    }
   ],
   "source": [
    "# replace(*) - replace characters/words with another\n",
    "\n",
    "text = sample.replace('a famous man','Ironman')\n",
    "print('original - ',sample)\n",
    "print('Replaced - ',text)"
   ]
  },
  {
   "cell_type": "markdown",
   "id": "polyphonic-retention",
   "metadata": {},
   "source": [
    "### String Formating "
   ]
  },
  {
   "cell_type": "markdown",
   "id": "recent-polish",
   "metadata": {},
   "source": [
    "For python3 there are 2 ways of string formationg using f'' and using .format()"
   ]
  },
  {
   "cell_type": "code",
   "execution_count": 109,
   "id": "premium-consultation",
   "metadata": {},
   "outputs": [
    {
     "name": "stdout",
     "output_type": "stream",
     "text": [
      "The supervillain named Helmut Zemo born in year 1978 is the biggest enemy of Captain America after hydra.\n",
      "After Hydra , Captain America's second worst enemy is Helmut Zemo born in year 1978' .\n"
     ]
    }
   ],
   "source": [
    "# Using .format() method\n",
    "\n",
    "name = 'Helmut Zemo'\n",
    "birth_year = 1978\n",
    "enemy = 'Captain America'\n",
    "\n",
    "# in this example the order of variables in format() should be correct.\n",
    "print(\"The supervillain named {} born in year {} is the biggest enemy of {} after hydra.\".format(name, birth_year, enemy))\n",
    "\n",
    "# we can use indexes to use any variable at any point ( note index start from 0 )\n",
    "print(\"After Hydra , {2}'s second worst enemy is {0} born in year {1}' .\".format(name,birth_year,enemy))\n"
   ]
  },
  {
   "cell_type": "code",
   "execution_count": 128,
   "id": "constant-dictionary",
   "metadata": {},
   "outputs": [
    {
     "name": "stdout",
     "output_type": "stream",
     "text": [
      "The WeaponX programme created a mutant named Wolverine in year 1832, also known as Logan.\n",
      "The WeaponX programmecreated a mutant named Wolverine in year 1832,also known as Logan.\n"
     ]
    }
   ],
   "source": [
    "# using f' method\n",
    "\n",
    "name = 'Wolverine'\n",
    "birth = 1832\n",
    "code_name = 'Logan'\n",
    "program = 'WeaponX'\n",
    "\n",
    "print(f'The {program} programme created a mutant named {name} in year {birth}, also known as {code_name}.')\n",
    "\n",
    "# In below example we used escape char (\\) to break the line in code, but it is printed as single line\n",
    "# This trick is usefull when we are dealing with longer strings which wont fit in the window. make sure to use f'' for every line\n",
    "\n",
    "print(f'The {program} programme'\\\n",
    "        f'created a mutant named {name} in year {birth},'\\\n",
    "        f'also known as {code_name}.')\n"
   ]
  },
  {
   "cell_type": "markdown",
   "id": "knowing-ambassador",
   "metadata": {},
   "source": [
    "f'sting method is faster than old %s and new .format() method and is hasselfree from order of variables.\n",
    "I advise to use the f'string method for better run time. "
   ]
  },
  {
   "cell_type": "code",
   "execution_count": null,
   "id": "social-sewing",
   "metadata": {},
   "outputs": [],
   "source": []
  }
 ],
 "metadata": {
  "kernelspec": {
   "display_name": "Python 3",
   "language": "python",
   "name": "python3"
  },
  "language_info": {
   "codemirror_mode": {
    "name": "ipython",
    "version": 3
   },
   "file_extension": ".py",
   "mimetype": "text/x-python",
   "name": "python",
   "nbconvert_exporter": "python",
   "pygments_lexer": "ipython3",
   "version": "3.8.5"
  }
 },
 "nbformat": 4,
 "nbformat_minor": 5
}
