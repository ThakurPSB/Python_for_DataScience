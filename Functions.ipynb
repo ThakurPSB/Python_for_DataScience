{
 "cells": [
  {
   "cell_type": "markdown",
   "id": "oriental-flood",
   "metadata": {},
   "source": [
    "# Functions"
   ]
  },
  {
   "cell_type": "markdown",
   "id": "colonial-context",
   "metadata": {},
   "source": [
    "There are 2 types of functions built-in functions and user defined functions. \n",
    "Both the terms are self explainatory so need to go definitions. Right ?"
   ]
  },
  {
   "cell_type": "markdown",
   "id": "hourly-efficiency",
   "metadata": {},
   "source": []
  },
  {
   "cell_type": "markdown",
   "id": "surrounded-worse",
   "metadata": {},
   "source": [
    "## Some very usefull built in functions for DS in python"
   ]
  },
  {
   "cell_type": "code",
   "execution_count": 1,
   "id": "superb-personal",
   "metadata": {},
   "outputs": [
    {
     "name": "stdout",
     "output_type": "stream",
     "text": [
      "0 1\n",
      "1 4\n",
      "2 9\n",
      "3 16\n"
     ]
    }
   ],
   "source": [
    "# enumerate() - provides the count as an additional argument \n",
    "\n",
    "for count,i in enumerate(range(1,5)):\n",
    "    print(count, i*i)"
   ]
  },
  {
   "cell_type": "code",
   "execution_count": 2,
   "id": "specified-norman",
   "metadata": {},
   "outputs": [
    {
     "name": "stdout",
     "output_type": "stream",
     "text": [
      "True\n",
      "False\n"
     ]
    }
   ],
   "source": [
    "# isinstance() - check if the variable or element is instance of specific class\n",
    "\n",
    "li = [1,2,3] ; print(isinstance(li, list))\n",
    "tu = (1,2,3,4) ; print(isinstance(tu, list))\n"
   ]
  },
  {
   "cell_type": "code",
   "execution_count": 3,
   "id": "specified-study",
   "metadata": {},
   "outputs": [
    {
     "data": {
      "text/plain": [
       "3"
      ]
     },
     "execution_count": 3,
     "metadata": {},
     "output_type": "execute_result"
    }
   ],
   "source": [
    "# len() - return the length of iterables, strings, etc.\n",
    "\n",
    "len(li)"
   ]
  },
  {
   "cell_type": "code",
   "execution_count": 4,
   "id": "gorgeous-lawyer",
   "metadata": {},
   "outputs": [
    {
     "name": "stdout",
     "output_type": "stream",
     "text": [
      "[1, 2, 3, 4]\n",
      "[3, 2, 1]\n"
     ]
    }
   ],
   "source": [
    "# sorted() - return a sorted iterable , with reverser argument False as default\n",
    "\n",
    "print(sorted(tu))\n",
    "print(sorted(li, reverse = True))"
   ]
  },
  {
   "cell_type": "code",
   "execution_count": 5,
   "id": "wrapped-phrase",
   "metadata": {},
   "outputs": [
    {
     "name": "stdout",
     "output_type": "stream",
     "text": [
      "[(1, 'a'), (2, 'b'), (3, 'c')]\n"
     ]
    }
   ],
   "source": [
    "# zip - zip the elements of 2 lists with each other one by one as a tuple. Mostly used in dictionary and dataframe object\n",
    "\n",
    "a = [1,2,3]\n",
    "b = ['a','b','c']\n",
    "\n",
    "print(list(zip(a,b))) \n",
    "\n",
    "# Note - to make dictionary using two lists check dictionary file "
   ]
  },
  {
   "cell_type": "code",
   "execution_count": 6,
   "id": "variable-receipt",
   "metadata": {},
   "outputs": [
    {
     "name": "stdout",
     "output_type": "stream",
     "text": [
      "True\n",
      "False\n"
     ]
    }
   ],
   "source": [
    "# any() and all() these functions are part of pandas dataframe.\n",
    "\n",
    "# isna() - checks if there is Null/None value in the series/dataframce \n",
    "# any() - check if any of the values matches the criteria\n",
    "# all() - check if all of the values matches the criteria\n",
    "\n",
    "import pandas as pd\n",
    "s = pd.Series([1,2,3,4,None,6])\n",
    "\n",
    "print(s.isna().any())\n",
    "print(s.isna().all())"
   ]
  },
  {
   "cell_type": "code",
   "execution_count": 7,
   "id": "dense-boring",
   "metadata": {},
   "outputs": [
    {
     "name": "stdout",
     "output_type": "stream",
     "text": [
      "[10, 12, 14, 16, 18]\n",
      "[20, 18, 16, 14, 12]\n",
      "[1, 18, 35, 52, 69, 86]\n"
     ]
    }
   ],
   "source": [
    "# range() - range function create a number array , argument are ( start, stop, stepsize)\n",
    "\n",
    "print(list(range(10,20,2))) \n",
    "print(list(range(20,10,-2)))   # allows negative stepsize to reverse\n",
    "print(list(range(1,100,17)))   # only allows integer value in arguments\n"
   ]
  },
  {
   "cell_type": "code",
   "execution_count": 8,
   "id": "domestic-seattle",
   "metadata": {},
   "outputs": [
    {
     "name": "stdout",
     "output_type": "stream",
     "text": [
      "smallest number in list :  1\n",
      "largest number in list :  96\n",
      "absolute value of -55 is :  55\n",
      "sum of the list is : 205\n",
      "10\n",
      "10\n",
      "9.68\n",
      "100.0\n"
     ]
    }
   ],
   "source": [
    "# min() - return the smallest value element from numerical iterables\n",
    "# max() - return the largest value element \n",
    "# abs() - return the absolute value , \n",
    "# round() - round up or down the numbers, second argument number of decimal need to round\n",
    "# sum() - return the sum of the all elements\n",
    "\n",
    "sample = [25,3,58,1,96,14,8]\n",
    "\n",
    "print('smallest number in list : ',min(sample))\n",
    "print('largest number in list : ',max(sample))\n",
    "print('absolute value of -55 is : ',abs(-55))\n",
    "print('sum of the list is :',sum(sample))\n",
    "\n",
    "print(round(10.5))      # there is one issue with round as it rounds 9.5 and 10.5 to same 10\n",
    "print(round(9.5))       # hence use cauciously \n",
    "print(round(9.678,2))   # rounding till 2 decimal places\n",
    "print(round(99.678,-1)) # rounding to positive side of the decimal place, works this way as well."
   ]
  },
  {
   "cell_type": "markdown",
   "id": "skilled-desert",
   "metadata": {},
   "source": [
    "## Let's create our own functions "
   ]
  },
  {
   "cell_type": "markdown",
   "id": "confirmed-orbit",
   "metadata": {},
   "source": [
    "Understanding the syntax:\n",
    "\n",
    "def function_name(argument1,argument2):<br/>\n",
    "--tab--return (action on arguments)\n",
    "\n",
    "1. def - keyword to tell python we are going to define function\n",
    "2. function_name - anything you wish just not the python keywords, follow PEP8 guidlines\n",
    "3. argument1, argument2 - you can add any number of arguement or even no argument at all\n",
    "4. --tab-- this will be auto added in next line so python will know below code belongs to above function\n",
    "5. return - returns the value, output etc. so we can use it as input for other functions or save in variable\n",
    "6. action on arguments - as we have accepted the arguments then use them to generate desired output\n",
    "7. after creating function we need to call it to use it. "
   ]
  },
  {
   "cell_type": "code",
   "execution_count": 9,
   "id": "elect-treat",
   "metadata": {},
   "outputs": [
    {
     "name": "stdout",
     "output_type": "stream",
     "text": [
      "Good Morning\n",
      "Good morning Mr.Thakur , your coffee is on table.\n"
     ]
    }
   ],
   "source": [
    "# Simple function which says good morning when we call it.\n",
    "#( we are not using return as our function is not return any value)\n",
    "\n",
    "# defining function -\n",
    "def greet():\n",
    "    print('Good Morning')\n",
    "\n",
    "# calling function -\n",
    "greet()\n",
    "\n",
    "# defining new function with 1 argument as name\n",
    "\n",
    "def greet_me(name):\n",
    "    print(f'Good morning {name} , your coffee is on table.')\n",
    "\n",
    "# calling function with arguement\n",
    "\n",
    "greet_me('Mr.Thakur')\n",
    "\n",
    "# see easy peasy"
   ]
  },
  {
   "cell_type": "markdown",
   "id": "checked-sense",
   "metadata": {},
   "source": [
    "Default Argument - "
   ]
  },
  {
   "cell_type": "code",
   "execution_count": 10,
   "id": "trained-hughes",
   "metadata": {},
   "outputs": [
    {
     "name": "stdout",
     "output_type": "stream",
     "text": [
      "Good morning sir/mam , your coffee is on table.\n",
      "Good morning MR. Grey , your coffee is on table.\n"
     ]
    }
   ],
   "source": [
    "# What if we dont provide the argument while calling the function, it will throw an error that function needs argument\n",
    "# in that case we should have something to coverup and thats called DEFAULT value, lets see\n",
    "\n",
    "def greet_me(name = 'sir/mam'):  # <--- here we have used default value as Sir/mam\n",
    "    print(f'Good morning {name} , your coffee is on table.')\n",
    "\n",
    "greet_me() # we called function without argument, hence it is using default argument ' sir/mam '\n",
    "greet_me('MR. Grey') # provided a name it will use that name as argument"
   ]
  },
  {
   "cell_type": "markdown",
   "id": "understanding-writing",
   "metadata": {},
   "source": [
    "### Multiple arguments"
   ]
  },
  {
   "cell_type": "markdown",
   "id": "obvious-crime",
   "metadata": {},
   "source": [
    "More than one arguements and ordered/named"
   ]
  },
  {
   "cell_type": "code",
   "execution_count": 11,
   "id": "ignored-fleet",
   "metadata": {},
   "outputs": [
    {
     "name": "stdout",
     "output_type": "stream",
     "text": [
      "Bruce Wayne\n",
      "Baner Bruce\n",
      "Bruce Baner\n"
     ]
    }
   ],
   "source": [
    "# we can use any number of arguments in the functions\n",
    "# we will function that add the name and sirname and return full name\n",
    "\n",
    "def full_name(name,sirname):\n",
    "    fname = f'{name} {sirname}'\n",
    "    return fname\n",
    "\n",
    "print(full_name('Bruce','Wayne')) # simple right ?\n",
    "print(full_name('Baner','Bruce')) # Hulk doesnt know that sirnane if second arguemnt so what to do?\n",
    "print(full_name(sirname = 'Baner',name = 'Bruce')) # when arguments are used with name , sequence does not matter."
   ]
  },
  {
   "cell_type": "code",
   "execution_count": 12,
   "id": "rolled-oklahoma",
   "metadata": {},
   "outputs": [
    {
     "data": {
      "text/plain": [
       "(9, 1)"
      ]
     },
     "execution_count": 12,
     "metadata": {},
     "output_type": "execute_result"
    }
   ],
   "source": [
    "# multiple value return as tuple.\n",
    "\n",
    "def basic_math(a,b):\n",
    "    return a+b,a-b\n",
    "\n",
    "basic_math(5,4)"
   ]
  },
  {
   "cell_type": "markdown",
   "id": "posted-ballot",
   "metadata": {},
   "source": [
    "### Args and kwargs"
   ]
  },
  {
   "cell_type": "markdown",
   "id": "visible-american",
   "metadata": {},
   "source": [
    "Non-keyword argument and Keyword arguments - lets find out whats these terms mean"
   ]
  },
  {
   "cell_type": "code",
   "execution_count": 13,
   "id": "packed-biotechnology",
   "metadata": {},
   "outputs": [
    {
     "name": "stdout",
     "output_type": "stream",
     "text": [
      "6\n",
      "37.6\n",
      "<class 'dict'>\n",
      "Name is Arther Curry\n",
      "Hero is Aquaman\n",
      "Power is King of Ocean\n"
     ]
    }
   ],
   "source": [
    "# When we are uncertain about the number of arguements for function we use these *args and **kwargs\n",
    "# Non-keyword Arguments args - denoted by * \n",
    "\n",
    "def adder(*args): #we can use any name in place of args but by convention we use args\n",
    "    sum = 0\n",
    "    for n in args:\n",
    "        sum += n\n",
    "    return sum\n",
    "\n",
    "print(adder(1,2,3))\n",
    "print(adder(5,6.6,9,12,5)) # any number of arguments are valid\n",
    "\n",
    "# Keyword Arguments kwargs - denoted by ** - used when we have to pass dictionaries as argument\n",
    "\n",
    "def print_data(**kwargs):\n",
    "    print(type(kwargs))\n",
    "    for key,value in kwargs.items():\n",
    "        print(f'{key} is {value}')\n",
    "\n",
    "print_data(Name = 'Arther Curry', Hero = 'Aquaman', Power = 'King of Ocean') # we are passign dictionary , check dictionary file for ref.     "
   ]
  },
  {
   "cell_type": "markdown",
   "id": "wired-heaven",
   "metadata": {},
   "source": [
    "### Global and local variables"
   ]
  },
  {
   "cell_type": "markdown",
   "id": "according-venue",
   "metadata": {},
   "source": [
    "We have concept of Global and local variables for functions <br>\n",
    "\n",
    "Gloabal variable have scope of whole program while local only have limited to function<br>\n",
    "All the variables in above program were local variables as we can not access there value outside the function<br>"
   ]
  },
  {
   "cell_type": "code",
   "execution_count": 14,
   "id": "absolute-diagnosis",
   "metadata": {},
   "outputs": [
    {
     "name": "stdout",
     "output_type": "stream",
     "text": [
      "sume of 2 and 4 using sum_glib function :  6\n",
      "value of c : 6\n"
     ]
    }
   ],
   "source": [
    "# Example :\n",
    "\n",
    "# we can use this syntax to define multiple variable and values\n",
    "a,b = 10,20  # global variables\n",
    "\n",
    "# defining simple function\n",
    "def sumab(a,b): \n",
    "    c = a + b   # here a,b,c all are local variable, \n",
    "    return c    # a and b declared here are not same as those mentioned earlier \n",
    "\n",
    "# return a + b i.e 30\n",
    "sumab(a,b)\n",
    "\n",
    "# but we can not access the c outside the function sumab()\n",
    "# it will raise NameError: name 'c' is not defined, because c does not exist outside function sumab.\n",
    "# ( uncomment below line to check )\n",
    "#print(c)\n",
    "\n",
    "\n",
    "##### Defining and using global variables\n",
    "\n",
    "\n",
    "# created a variable with value 0\n",
    "c = 0 \n",
    "\n",
    "def sum_glob(a,b):\n",
    "    global c       # defining global variable in function , (telling python this is global variable)\n",
    "    c = a+b\n",
    "    return c\n",
    "\n",
    "# we have used the global c in this function \n",
    "print('sume of 2 and 4 using sum_glib function : ',sum_glob(2,4))\n",
    "\n",
    "# lets check value of c now , if you remember we have created variable c with value 0 . \n",
    "print('value of c :', c)"
   ]
  },
  {
   "cell_type": "markdown",
   "id": "ordinary-surrey",
   "metadata": {},
   "source": [
    "### Doc string "
   ]
  },
  {
   "cell_type": "markdown",
   "id": "empty-leisure",
   "metadata": {},
   "source": [
    "Last but not least, Doc Strings - now what the heck is that, <br>\n",
    "Doc Strings is the documentation for the function, what the function do,<br>\n",
    "what are arguments , what is expected output etc. <br>\n",
    "\n",
    "Lets write doc string for one of our functions."
   ]
  },
  {
   "cell_type": "code",
   "execution_count": 15,
   "id": "theoretical-thickness",
   "metadata": {},
   "outputs": [
    {
     "name": "stdout",
     "output_type": "stream",
     "text": [
      "Help on function adder in module __main__:\n",
      "\n",
      "adder(*args)\n",
      "    Add all the values provided in the function.\n",
      "    \n",
      "    Parameters : Accepts numers as parameters\n",
      "    \n",
      "    Returns : sum of all the numbers provided\n",
      "\n"
     ]
    }
   ],
   "source": [
    "# lets add doc string to the adder functions\n",
    "\n",
    "def adder(*args): \n",
    "    # we use three double or single quotes to enter the doc string\n",
    "    \"\"\"\n",
    "    \n",
    "    Add all the values provided in the function.\n",
    "    \n",
    "    Parameters : Accepts numers as parameters\n",
    "    \n",
    "    Returns : sum of all the numbers provided    \n",
    "    \n",
    "    \"\"\"\n",
    "    sum = 0\n",
    "    for n in args:\n",
    "        sum += n\n",
    "    return sum\n",
    "\n",
    "# Checking our doc string for function adder\n",
    "help(adder)"
   ]
  },
  {
   "cell_type": "markdown",
   "id": "sonic-festival",
   "metadata": {},
   "source": [
    "### lambda"
   ]
  },
  {
   "cell_type": "code",
   "execution_count": 16,
   "id": "falling-congo",
   "metadata": {},
   "outputs": [
    {
     "data": {
      "text/plain": [
       "10"
      ]
     },
     "execution_count": 16,
     "metadata": {},
     "output_type": "execute_result"
    }
   ],
   "source": [
    "# lambda are the one line one time using functinos, if we don't have plan to use function multiple times , we use lambda.\n",
    "# it can take any number of arguments, but can only have one expression.\n",
    "# oftern lambda is used with functions map, filter and reduce\n",
    "\n",
    "# Syntadx : lambda arguments : expression\n",
    "\n",
    "al = lambda a,b : a*b\n",
    "\n",
    "al(5,2)"
   ]
  },
  {
   "cell_type": "markdown",
   "id": "unsigned-jurisdiction",
   "metadata": {},
   "source": [
    "Map and Filter"
   ]
  },
  {
   "cell_type": "code",
   "execution_count": 17,
   "id": "nearby-finder",
   "metadata": {},
   "outputs": [],
   "source": [
    "alist = [1,2,3,4,5,6,7,8,9]"
   ]
  },
  {
   "cell_type": "code",
   "execution_count": 18,
   "id": "short-companion",
   "metadata": {},
   "outputs": [
    {
     "name": "stdout",
     "output_type": "stream",
     "text": [
      "[1, 4, 9, 16, 25, 36, 49, 64, 81]\n"
     ]
    }
   ],
   "source": [
    "# Map uses the lambda function to return the modified version of element ,\n",
    "# here we used map to get squares of all the numbers in the list\n",
    "\n",
    "result = list(map(lambda x : x**2, alist))\n",
    "print(result)"
   ]
  },
  {
   "cell_type": "code",
   "execution_count": 19,
   "id": "active-wallace",
   "metadata": {},
   "outputs": [
    {
     "name": "stdout",
     "output_type": "stream",
     "text": [
      "[1, 3, 5, 7, 9]\n"
     ]
    }
   ],
   "source": [
    "# Filter - use the lambda expression as conditiona and filter the elements with True\n",
    "# here we are filtering the odd numbers form the list \n",
    "\n",
    "result = list(filter(lambda x : (x%2 != 0), alist))\n",
    "print(result)"
   ]
  },
  {
   "cell_type": "markdown",
   "id": "fixed-flashing",
   "metadata": {},
   "source": [
    "### Time complexity - lambda vs def"
   ]
  },
  {
   "cell_type": "code",
   "execution_count": 20,
   "id": "developing-refund",
   "metadata": {},
   "outputs": [],
   "source": [
    "def ab(a,b):\n",
    "    return a * b"
   ]
  },
  {
   "cell_type": "code",
   "execution_count": 21,
   "id": "natural-sally",
   "metadata": {},
   "outputs": [
    {
     "name": "stdout",
     "output_type": "stream",
     "text": [
      "101 ns ± 3.86 ns per loop (mean ± std. dev. of 7 runs, 10000000 loops each)\n"
     ]
    }
   ],
   "source": [
    "# Time taken by def function to calculate\n",
    "\n",
    "%%timeit\n",
    "ab(5,2)"
   ]
  },
  {
   "cell_type": "code",
   "execution_count": 22,
   "id": "reported-chemical",
   "metadata": {},
   "outputs": [
    {
     "name": "stdout",
     "output_type": "stream",
     "text": [
      "99.6 ns ± 0.373 ns per loop (mean ± std. dev. of 7 runs, 10000000 loops each)\n"
     ]
    }
   ],
   "source": [
    "# Time taken by lambda function to calculate\n",
    "\n",
    "%%timeit\n",
    "al(5,2)"
   ]
  },
  {
   "cell_type": "markdown",
   "id": "tutorial-recipe",
   "metadata": {},
   "source": [
    "### Note"
   ]
  },
  {
   "cell_type": "markdown",
   "id": "weird-passport",
   "metadata": {},
   "source": [
    "1. I have not included input() function in this file. As a data scientist we are not gonna use input much. We will be using very larg data sets with thousads and lacs of lines and tens of features.\n",
    "\n",
    "2. In above notebook I have checked the time complexity ( how much time it take to calculate by using lambda and def, and found that def is faster than lambda. \n",
    "\n",
    "\n",
    "3. References - https://towardsdatascience.com/10-python-built-in-functions-every-data-scientist-should-know-233b302abc0"
   ]
  },
  {
   "cell_type": "code",
   "execution_count": null,
   "id": "coated-needle",
   "metadata": {},
   "outputs": [],
   "source": []
  }
 ],
 "metadata": {
  "kernelspec": {
   "display_name": "Python 3",
   "language": "python",
   "name": "python3"
  },
  "language_info": {
   "codemirror_mode": {
    "name": "ipython",
    "version": 3
   },
   "file_extension": ".py",
   "mimetype": "text/x-python",
   "name": "python",
   "nbconvert_exporter": "python",
   "pygments_lexer": "ipython3",
   "version": "3.8.5"
  }
 },
 "nbformat": 4,
 "nbformat_minor": 5
}
