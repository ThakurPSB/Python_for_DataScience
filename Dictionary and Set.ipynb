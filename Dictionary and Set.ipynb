{
 "cells": [
  {
   "cell_type": "markdown",
   "id": "federal-third",
   "metadata": {},
   "source": [
    "# Dictionary and Set "
   ]
  },
  {
   "cell_type": "markdown",
   "id": "realistic-jaguar",
   "metadata": {},
   "source": [
    "### Creating Dictionary "
   ]
  },
  {
   "cell_type": "markdown",
   "id": "sought-agency",
   "metadata": {},
   "source": [
    "Dictionaries are set of key and value pairs, keys are the index of the dictionary to call the corrusponding value. "
   ]
  },
  {
   "cell_type": "code",
   "execution_count": 1,
   "id": "answering-preservation",
   "metadata": {},
   "outputs": [
    {
     "data": {
      "text/plain": [
       "{}"
      ]
     },
     "execution_count": 1,
     "metadata": {},
     "output_type": "execute_result"
    }
   ],
   "source": [
    "# Empty dictionary \n",
    "\n",
    "empty_d = {} ; empty_d"
   ]
  },
  {
   "cell_type": "code",
   "execution_count": 2,
   "id": "educational-physiology",
   "metadata": {},
   "outputs": [
    {
     "name": "stdout",
     "output_type": "stream",
     "text": [
      "{'a': 'apple', 'b': 'ball', 'c': 'cat'}\n",
      "{'name': 'Hal Jordan', 'sector': 2814}\n"
     ]
    }
   ],
   "source": [
    "# Simple dictionaries\n",
    "\n",
    "simple_d = {'a':'apple', 'b':'ball', 'c':'cat'} ; print(simple_d)\n",
    "simple_d2 = {'name':'Hal Jordan','sector':2814} ; print(simple_d2)"
   ]
  },
  {
   "cell_type": "code",
   "execution_count": 3,
   "id": "pointed-aaron",
   "metadata": {},
   "outputs": [
    {
     "name": "stdout",
     "output_type": "stream",
     "text": [
      "{'a': 1, 'b': 2, 'c': 3}\n"
     ]
    }
   ],
   "source": [
    "# Creating using dict() function : no need to use quotes for keys\n",
    "\n",
    "simple_d3 = dict(a=1, b=2, c=3) ; print(simple_d3)"
   ]
  },
  {
   "cell_type": "code",
   "execution_count": 4,
   "id": "cross-virginia",
   "metadata": {},
   "outputs": [
    {
     "data": {
      "text/plain": [
       "{'x': 10, 'y': 20, 'z': 30}"
      ]
     },
     "execution_count": 4,
     "metadata": {},
     "output_type": "execute_result"
    }
   ],
   "source": [
    "# creating dictionary from lists : zip() function that will Iterate over the two lists in parallel.\n",
    "\n",
    "k = ['x','y','z']\n",
    "v = [10,20,30]\n",
    "\n",
    "list_d = dict(zip(k,v)) ; list_d"
   ]
  },
  {
   "cell_type": "code",
   "execution_count": 5,
   "id": "unnecessary-lesbian",
   "metadata": {},
   "outputs": [
    {
     "data": {
      "text/plain": [
       "{'hi': 10, 'hello': 10, 'there': 10}"
      ]
     },
     "execution_count": 5,
     "metadata": {},
     "output_type": "execute_result"
    }
   ],
   "source": [
    "# creating using fromkeys method of dictionary , \n",
    "# arguments are list of keys and common value for all keys\n",
    "\n",
    "k = ['hi','hello','there']\n",
    "\n",
    "fromkey_d = dict.fromkeys(k, 10) ; fromkey_d"
   ]
  },
  {
   "cell_type": "markdown",
   "id": "swiss-helena",
   "metadata": {},
   "source": [
    "### Dictionary Methods"
   ]
  },
  {
   "cell_type": "code",
   "execution_count": 6,
   "id": "separate-louisville",
   "metadata": {},
   "outputs": [
    {
     "data": {
      "text/plain": [
       "{}"
      ]
     },
     "execution_count": 6,
     "metadata": {},
     "output_type": "execute_result"
    }
   ],
   "source": [
    "# clear() - the dictionary delete all elements\n",
    "\n",
    "simple_d3.clear() ; simple_d3"
   ]
  },
  {
   "cell_type": "code",
   "execution_count": 7,
   "id": "monetary-profile",
   "metadata": {},
   "outputs": [
    {
     "data": {
      "text/plain": [
       "{'x': 10, 'y': 20, 'z': 30}"
      ]
     },
     "execution_count": 7,
     "metadata": {},
     "output_type": "execute_result"
    }
   ],
   "source": [
    "# copy() - make copy of dictionary\n",
    "\n",
    "simple_d3 = list_d.copy() ; simple_d3"
   ]
  },
  {
   "cell_type": "code",
   "execution_count": 8,
   "id": "pursuant-tobago",
   "metadata": {},
   "outputs": [
    {
     "data": {
      "text/plain": [
       "20"
      ]
     },
     "execution_count": 8,
     "metadata": {},
     "output_type": "execute_result"
    }
   ],
   "source": [
    "# get(*) - return the value for key passed as argument\n",
    "\n",
    "simple_d3.get('y')"
   ]
  },
  {
   "cell_type": "code",
   "execution_count": 9,
   "id": "outer-trauma",
   "metadata": {},
   "outputs": [
    {
     "data": {
      "text/plain": [
       "dict_items([('x', 10), ('y', 20), ('z', 30)])"
      ]
     },
     "execution_count": 9,
     "metadata": {},
     "output_type": "execute_result"
    }
   ],
   "source": [
    "# items() - return list of tuples of key value pair\n",
    "\n",
    "simple_d3.items()"
   ]
  },
  {
   "cell_type": "code",
   "execution_count": 10,
   "id": "preceding-cemetery",
   "metadata": {},
   "outputs": [
    {
     "name": "stdout",
     "output_type": "stream",
     "text": [
      "dict_keys(['x', 'y', 'z'])\n",
      "dict_values([10, 20, 30])\n"
     ]
    }
   ],
   "source": [
    "# keys() - return list of keys\n",
    "# values() - return list of values\n",
    "\n",
    "keys = simple_d3.keys() ; print(keys)\n",
    "values = simple_d3.values() ; print(values)"
   ]
  },
  {
   "cell_type": "code",
   "execution_count": 11,
   "id": "unique-target",
   "metadata": {},
   "outputs": [
    {
     "name": "stdout",
     "output_type": "stream",
     "text": [
      "30\n",
      "{'x': 10, 'y': 20}\n"
     ]
    }
   ],
   "source": [
    "# pop(*) - remove the key value pair from the dict , argument is key\n",
    "\n",
    "z = simple_d3.pop('z') ; print(z)\n",
    "print(simple_d3)"
   ]
  },
  {
   "cell_type": "code",
   "execution_count": 16,
   "id": "touched-clerk",
   "metadata": {},
   "outputs": [
    {
     "name": "stdout",
     "output_type": "stream",
     "text": [
      "{'x': 10, 'y': 20, 'u': [11, 22, 33], 'v': 1000, 'z': 30}\n",
      "{'x': 10, 'y': 20, 'u': [11, 22, 33], 'v': 1000}\n"
     ]
    }
   ],
   "source": [
    "# update(*) - insert the key value pair in the dict\n",
    "simple_d3.update({'u':[11,22,33]})\n",
    "\n",
    "# Inserting the key value in the dict\n",
    "simple_d3['z'] = 30 ; print(simple_d3)\n",
    "\n",
    "# popitem() - remove the last inserted item from dictionary\n",
    "simple_d3.popitem() ; print(simple_d3)"
   ]
  },
  {
   "cell_type": "code",
   "execution_count": 18,
   "id": "compound-ballet",
   "metadata": {},
   "outputs": [
    {
     "name": "stdout",
     "output_type": "stream",
     "text": [
      "10\n",
      "{'x': 10, 'y': 20, 'u': [11, 22, 33], 'v': 1000}\n"
     ]
    }
   ],
   "source": [
    "# setdefault(*) - argument key,value. \n",
    "\n",
    "# If the key is present it return the value associated with the key, and not the provided one\n",
    "print(simple_d3.setdefault('x',1000))\n",
    "\n",
    "# If the key is not in the list then it will add the key and value provided to the dictionary\n",
    "simple_d3.setdefault('v',1000) ; print(simple_d3) "
   ]
  },
  {
   "cell_type": "markdown",
   "id": "distributed-geology",
   "metadata": {},
   "source": [
    "### Accessing the key and values"
   ]
  },
  {
   "cell_type": "code",
   "execution_count": 17,
   "id": "sound-diamond",
   "metadata": {},
   "outputs": [
    {
     "data": {
      "text/plain": [
       "22"
      ]
     },
     "execution_count": 17,
     "metadata": {},
     "output_type": "execute_result"
    }
   ],
   "source": [
    "# passing key as index and second barcket index for element of list in it\n",
    "simple_d3['u'][1]"
   ]
  },
  {
   "cell_type": "markdown",
   "id": "difficult-execution",
   "metadata": {},
   "source": [
    "### Iteration through key and value"
   ]
  },
  {
   "cell_type": "code",
   "execution_count": 29,
   "id": "precious-tissue",
   "metadata": {},
   "outputs": [
    {
     "name": "stdout",
     "output_type": "stream",
     "text": [
      "key - x , value - 10\n",
      "key - y , value - 20\n",
      "key - u , value - [11, 22, 33]\n",
      "key - v , value - 1000\n"
     ]
    }
   ],
   "source": [
    "for (k,v) in simple_d3.items():\n",
    "    print(f'key - {k} , value - {v}')"
   ]
  },
  {
   "cell_type": "code",
   "execution_count": 30,
   "id": "beautiful-briefing",
   "metadata": {},
   "outputs": [
    {
     "name": "stdout",
     "output_type": "stream",
     "text": [
      "key - x\n",
      "key - y\n",
      "key - u\n",
      "key - v\n"
     ]
    }
   ],
   "source": [
    "for k in simple_d3.keys():\n",
    "    print(f'key - {k}')"
   ]
  },
  {
   "cell_type": "code",
   "execution_count": 31,
   "id": "dangerous-template",
   "metadata": {},
   "outputs": [
    {
     "name": "stdout",
     "output_type": "stream",
     "text": [
      "value - 10\n",
      "value - 20\n",
      "value - [11, 22, 33]\n",
      "value - 1000\n"
     ]
    }
   ],
   "source": [
    "for v in simple_d3.values():\n",
    "    print(f\"value - {v}\")"
   ]
  },
  {
   "cell_type": "markdown",
   "id": "disabled-convertible",
   "metadata": {},
   "source": [
    "# Set "
   ]
  },
  {
   "cell_type": "markdown",
   "id": "dynamic-health",
   "metadata": {},
   "source": [
    "Set is collection which is unordered and unindexed.\n",
    "Sets are unchangeable and duplicates are not allowed in set"
   ]
  },
  {
   "cell_type": "markdown",
   "id": "protective-harbor",
   "metadata": {},
   "source": [
    "### Creating set"
   ]
  },
  {
   "cell_type": "code",
   "execution_count": 47,
   "id": "sharing-approach",
   "metadata": {},
   "outputs": [
    {
     "name": "stdout",
     "output_type": "stream",
     "text": [
      "{'hi', 321, '123', True}\n",
      "{False, 'two', 'one', 'hi', 123}\n",
      "{33, 1, 3, 3.6, 11, 28}\n",
      "{'b', 'c', 'a'}\n"
     ]
    }
   ],
   "source": [
    "# Creating set using curly brackets \n",
    "simple_s = {'hi','123',321,True} ; print(simple_s)\n",
    "\n",
    "# creating set using set() operator\n",
    "set_2 = set(('hi','one','two',123,False, False)) ; print(set_2)\n",
    "\n",
    "# creating set of numbers\n",
    "num_s = {11,33,3,1,28,3.6} ; print(num_s)\n",
    "\n",
    "# list to set\n",
    "list_set = set(['a','b','c']) ; print(list_set)"
   ]
  },
  {
   "cell_type": "markdown",
   "id": "dental-blues",
   "metadata": {},
   "source": [
    "### accessing the elements in set"
   ]
  },
  {
   "cell_type": "code",
   "execution_count": 49,
   "id": "adjacent-august",
   "metadata": {},
   "outputs": [
    {
     "name": "stdout",
     "output_type": "stream",
     "text": [
      "hi\n",
      "321\n",
      "123\n",
      "True\n",
      "True\n"
     ]
    }
   ],
   "source": [
    "# using for loop\n",
    "for i in simple_s:\n",
    "    print(i)\n",
    "    \n",
    "# checking the element is in set\n",
    "print('a' in list_set)"
   ]
  },
  {
   "cell_type": "markdown",
   "id": "mechanical-oriental",
   "metadata": {},
   "source": [
    "### Set methods"
   ]
  },
  {
   "cell_type": "code",
   "execution_count": 74,
   "id": "dramatic-immunology",
   "metadata": {},
   "outputs": [
    {
     "name": "stdout",
     "output_type": "stream",
     "text": [
      "{False, 321, True, 99, 'two', 'smile', 'add', '123', 'one', 'hi', 'R', 'Python', 123}\n",
      "set()\n"
     ]
    }
   ],
   "source": [
    "# clear() - clear the set and make it empty\n",
    "# copy() - copy set to another variable\n",
    "# del - delete the entire set variable \n",
    "\n",
    "dup_s = simple_s.copy() ; print(dup_s)\n",
    "dup_s.clear() ; print(dup_s)\n",
    "del dup_s"
   ]
  },
  {
   "cell_type": "code",
   "execution_count": 86,
   "id": "reverse-portland",
   "metadata": {},
   "outputs": [
    {
     "name": "stdout",
     "output_type": "stream",
     "text": [
      "{False, 321, True, 99, 'two', 'smile', 'Python', '123', 'one', 'hi', 'R', 'add', 123}\n",
      "{False, 321, True, 99, 'two', 'smile', 'Python', '123', 'one', 'hi', 'R', 'add', 123}\n",
      "{False, 321, True, 99, 'two', 'smile', 'Python', '123', 'one', 'so', 'hi', 'R', 'add', 123}\n",
      "{False, 321, True, 99, 'two', 'smile', 'Python', '123', 'one', 'so', 'hi', 'R', 'add', 123}\n",
      "{False, 321, True, 99, 'two', 'smile', 'Python', '123', 'one', 'hi', 'R', 'add', 123}\n",
      "{False, 321, True, 99, 'two', 'smile', 'Python', '123', 'one', 'hi', 'R', 'add', 123}\n",
      "{321, True, 99, 'two', 'smile', 'Python', '123', 'one', 'hi', 'R', 'add', 123}\n"
     ]
    }
   ],
   "source": [
    "# add(*) - Adding single element to the set\n",
    "# update() - adding multiple elements, we can add any iterable like list,tuple or set \n",
    "\n",
    "simple_s.add('add') ; print(simple_s)\n",
    "simple_s.update(['one','smile', 123]) ; print(simple_s)\n",
    "simple_s.update(('two','so', 99)) ; print(simple_s)\n",
    "simple_s.update({'R','Python',False}) ; print(simple_s)\n",
    "\n",
    "# remove() - remove the item from the set , if item not in set it will raise error\n",
    "# discard() - remove the item from set , if item not exitst in set , wont raise error\n",
    "# pop() - remove last added element of the set \n",
    "\n",
    "simple_s.remove('so') ; print(simple_s)\n",
    "simple_s.discard('RR') ; print(simple_s)\n",
    "simple_s.pop() ; print(simple_s)"
   ]
  },
  {
   "cell_type": "code",
   "execution_count": 75,
   "id": "premier-florist",
   "metadata": {},
   "outputs": [
    {
     "name": "stdout",
     "output_type": "stream",
     "text": [
      "{1, 2}\n",
      "{4, 5}\n"
     ]
    }
   ],
   "source": [
    "# difference(*) - returns the differenc i.e. elements only in the first set\n",
    "\n",
    "a = {1,2,3}\n",
    "b = {3,4,5}\n",
    "\n",
    "print(a.difference(b)) # items only present in a\n",
    "print(b.difference(a)) # items only present in b"
   ]
  },
  {
   "cell_type": "code",
   "execution_count": 80,
   "id": "brief-quick",
   "metadata": {},
   "outputs": [
    {
     "name": "stdout",
     "output_type": "stream",
     "text": [
      "{1, 2}\n",
      "{3}\n"
     ]
    }
   ],
   "source": [
    "# difference_update(*) - check the unique element in set a which are not in b and save only those in a\n",
    "\n",
    "a = {1,2,3}\n",
    "b = {3,4,5}\n",
    "c = {5,4,6}\n",
    "\n",
    "a.difference_update(b); print(a)\n",
    "b.difference_update(c); print(b)"
   ]
  },
  {
   "cell_type": "code",
   "execution_count": 84,
   "id": "pointed-ghana",
   "metadata": {},
   "outputs": [
    {
     "name": "stdout",
     "output_type": "stream",
     "text": [
      "{3}\n",
      "{4, 5}\n"
     ]
    }
   ],
   "source": [
    "# intersection(*) - return only common elements in both sets a and b\n",
    "# intersection_update(*) - return only common elements and save in a\n",
    "\n",
    "a = {1,2,3}\n",
    "b = {3,4,5}\n",
    "c = {5,4,6}\n",
    "\n",
    "print(a.intersection(b))\n",
    "c.intersection_update(b) ; print(c)"
   ]
  },
  {
   "cell_type": "code",
   "execution_count": 101,
   "id": "efficient-smart",
   "metadata": {},
   "outputs": [
    {
     "name": "stdout",
     "output_type": "stream",
     "text": [
      "{1, 2, 4, 5}\n",
      "{1, 2, 4, 5}\n",
      "{3, 4, 6, 7}\n"
     ]
    }
   ],
   "source": [
    "# symmetric_difference(*) - keep unique elelement present in both sets and delete common elements\n",
    "# symmetric_difference_update(*) - keep unique elelement present in both sets and delete common elements save in a\n",
    "\n",
    "a = {1,2,3}\n",
    "b = {3,4,5}\n",
    "c = {5,6,7}\n",
    "\n",
    "print(a.symmetric_difference(b))\n",
    "print(b.symmetric_difference(a))\n",
    "b.symmetric_difference_update(c); print(b)"
   ]
  },
  {
   "cell_type": "code",
   "execution_count": 103,
   "id": "noble-dining",
   "metadata": {},
   "outputs": [
    {
     "name": "stdout",
     "output_type": "stream",
     "text": [
      "{1, 2, 3, 4, 5}\n",
      "{3, 4, 5, 6, 7}\n"
     ]
    }
   ],
   "source": [
    "# union(*) - combine all elemenets of both sets and remove duplicate if any\n",
    "\n",
    "a = {1,2,3}\n",
    "b = {3,4,5}\n",
    "c = {5,6,7}\n",
    "\n",
    "print(a.union(b))\n",
    "print(b.union(c))"
   ]
  },
  {
   "cell_type": "code",
   "execution_count": 107,
   "id": "continued-million",
   "metadata": {},
   "outputs": [
    {
     "name": "stdout",
     "output_type": "stream",
     "text": [
      "False\n",
      "True\n"
     ]
    }
   ],
   "source": [
    "# isdisjoint(*) - return True if no item in set a is presetn in set b\n",
    "\n",
    "a = {1,2,3}\n",
    "b = {3,4,5}\n",
    "c = {6,7,8}\n",
    "\n",
    "print(a.isdisjoint(a))\n",
    "print(b.isdisjoint(c))"
   ]
  },
  {
   "cell_type": "code",
   "execution_count": 112,
   "id": "celtic-philippines",
   "metadata": {},
   "outputs": [
    {
     "name": "stdout",
     "output_type": "stream",
     "text": [
      "True\n",
      "False\n",
      "True\n"
     ]
    }
   ],
   "source": [
    "# issubset(*) - if all element of a present in b then a is subset of b and return True\n",
    "# issuperset(*) - if b contains all elements of a then b is the superset of a \n",
    "\n",
    "a = {1,2,3}\n",
    "b = {1,2,3,4}\n",
    "c = {6,7,8}\n",
    "\n",
    "print(a.issubset(b))\n",
    "print(b.issubset(c))\n",
    "print(b.issuperset(a))"
   ]
  },
  {
   "cell_type": "code",
   "execution_count": null,
   "id": "chronic-conditions",
   "metadata": {},
   "outputs": [],
   "source": [
    "\n"
   ]
  }
 ],
 "metadata": {
  "kernelspec": {
   "display_name": "Python 3",
   "language": "python",
   "name": "python3"
  },
  "language_info": {
   "codemirror_mode": {
    "name": "ipython",
    "version": 3
   },
   "file_extension": ".py",
   "mimetype": "text/x-python",
   "name": "python",
   "nbconvert_exporter": "python",
   "pygments_lexer": "ipython3",
   "version": "3.8.5"
  }
 },
 "nbformat": 4,
 "nbformat_minor": 5
}
